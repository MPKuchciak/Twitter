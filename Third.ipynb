{
 "cells": [
  {
   "cell_type": "code",
   "execution_count": 1,
   "metadata": {},
   "outputs": [
    {
     "data": {
      "text/plain": [
       "'\\nAPI key = wVsDqAKk8NhtSdqonYA3Ouvcj\\nAPI Key secret = GI5BStJbfg6zYZl0jgDqPSELtTGXxZ0tF4izvsbjUKfF5suWfl\\nBearer - = AAAAAAAAAAAAAAAAAAAAANwjwwEAAAAA8G5%2FsbtLy6o7xIgRYzpn8o4HhJQ%3DYkBemysNouBcEpyh71Ap7GhcCeli5jlgQICQ4oXTn2p7ROvSo6\\n'"
      ]
     },
     "execution_count": 1,
     "metadata": {},
     "output_type": "execute_result"
    }
   ],
   "source": [
    "\n",
    "'''\n",
    "API key = wVsDqAKk8NhtSdqonYA3Ouvcj\n",
    "API Key secret = GI5BStJbfg6zYZl0jgDqPSELtTGXxZ0tF4izvsbjUKfF5suWfl\n",
    "Bearer - = AAAAAAAAAAAAAAAAAAAAANwjwwEAAAAA8G5%2FsbtLy6o7xIgRYzpn8o4HhJQ%3DYkBemysNouBcEpyh71Ap7GhcCeli5jlgQICQ4oXTn2p7ROvSo6\n",
    "'''"
   ]
  },
  {
   "cell_type": "code",
   "execution_count": 5,
   "metadata": {},
   "outputs": [],
   "source": [
    "\n",
    "bearer_token = \"AAAAAAAAAAAAAAAAAAAAANwjwwEAAAAA8G5%2FsbtLy6o7xIgRYzpn8o4HhJQ%3DYkBemysNouBcEpyh71Ap7GhcCeli5jlgQICQ4oXTn2p7ROvSo6\""
   ]
  },
  {
   "cell_type": "code",
   "execution_count": 9,
   "metadata": {},
   "outputs": [],
   "source": [
    "import requests\n",
    "\n",
    "# Step 1: Get Bearer Token or OAuth 1.0 credentials\n",
    "usernames = \"donaldtusk\"  # List usernames\n",
    "\n",
    "# Step 2: Define the endpoint\n",
    "url = f\"https://api.twitter.com/2/users/by?usernames={usernames}\"\n",
    "headers = {\"Authorization\": f\"Bearer {bearer_token}\"}\n",
    "\n",
    "# Fetch user IDs\n",
    "response = requests.get(url, headers=headers)\n",
    "user_data = response.json()\n"
   ]
  },
  {
   "cell_type": "code",
   "execution_count": 10,
   "metadata": {},
   "outputs": [
    {
     "data": {
      "text/plain": [
       "{'title': 'Too Many Requests',\n",
       " 'detail': 'Too Many Requests',\n",
       " 'type': 'about:blank',\n",
       " 'status': 429}"
      ]
     },
     "execution_count": 10,
     "metadata": {},
     "output_type": "execute_result"
    }
   ],
   "source": [
    "user_data"
   ]
  },
  {
   "cell_type": "code",
   "execution_count": 11,
   "metadata": {},
   "outputs": [
    {
     "ename": "KeyError",
     "evalue": "'data'",
     "output_type": "error",
     "traceback": [
      "\u001b[1;31m---------------------------------------------------------------------------\u001b[0m",
      "\u001b[1;31mKeyError\u001b[0m                                  Traceback (most recent call last)",
      "Cell \u001b[1;32mIn[11], line 1\u001b[0m\n\u001b[1;32m----> 1\u001b[0m user_ids \u001b[38;5;241m=\u001b[39m [user[\u001b[38;5;124m\"\u001b[39m\u001b[38;5;124mid\u001b[39m\u001b[38;5;124m\"\u001b[39m] \u001b[38;5;28;01mfor\u001b[39;00m user \u001b[38;5;129;01min\u001b[39;00m user_data[\u001b[38;5;124m\"\u001b[39m\u001b[38;5;124mdata\u001b[39m\u001b[38;5;124m\"\u001b[39m]]\n",
      "\u001b[1;31mKeyError\u001b[0m: 'data'"
     ]
    }
   ],
   "source": [
    "user_ids = [user[\"id\"] for user in user_data[\"data\"]]\n"
   ]
  },
  {
   "cell_type": "code",
   "execution_count": 15,
   "metadata": {},
   "outputs": [
    {
     "name": "stdout",
     "output_type": "stream",
     "text": [
      "Error fetching user ID: 429, {\"title\":\"Too Many Requests\",\"detail\":\"Too Many Requests\",\"type\":\"about:blank\",\"status\":429}\n"
     ]
    }
   ],
   "source": []
  },
  {
   "cell_type": "code",
   "execution_count": null,
   "metadata": {},
   "outputs": [],
   "source": [
    "# testing 1.1."
   ]
  },
  {
   "cell_type": "code",
   "execution_count": 26,
   "metadata": {},
   "outputs": [
    {
     "name": "stdout",
     "output_type": "stream",
     "text": [
      "Error fetching user data: 429, {\"title\":\"Too Many Requests\",\"detail\":\"Too Many Requests\",\"type\":\"about:blank\",\"status\":429}\n"
     ]
    }
   ],
   "source": [
    "import requests\n",
    "\n",
    "# Replace 'YOUR_BEARER_TOKEN' with your actual Bearer Token from Twitter API\n",
    "bearer_token = \"AAAAAAAAAAAAAAAAAAAAANwjwwEAAAAA8G5%2FsbtLy6o7xIgRYzpn8o4HhJQ%3DYkBemysNouBcEpyh71Ap7GhcCeli5jlgQICQ4oXTn2p7ROvSo6\"\n",
    "usernames = \"donaldtusk\"  # Comma-separated list of usernames #, Arlukowicz\n",
    "\n",
    "# Set up the endpoint and parameters\n",
    "url = f\"https://api.twitter.com/2/users/by?usernames={usernames}&user.fields=id,username\"\n",
    "headers = {\"Authorization\": f\"Bearer {bearer_token}\"}\n",
    "\n",
    "# Send request\n",
    "response = requests.get(url, headers=headers)\n",
    "\n",
    "# Check and process response\n",
    "if response.status_code == 200:\n",
    "    user_data = response.json()\n",
    "    print(\"User information and IDs:\")\n",
    "    for user in user_data['data']:\n",
    "        print(f\"Username: {user['username']}, ID: {user['id']}\")\n",
    "else:\n",
    "    print(f\"Error fetching user data: {response.status_code}, {response.text}\")\n"
   ]
  },
  {
   "cell_type": "code",
   "execution_count": null,
   "metadata": {},
   "outputs": [],
   "source": [
    "# TESTING 1.2."
   ]
  },
  {
   "cell_type": "code",
   "execution_count": 29,
   "metadata": {},
   "outputs": [],
   "source": [
    "import requests\n",
    "import json\n",
    "\n",
    "# Set your bearer token\n",
    "bearer_token = \"AAAAAAAAAAAAAAAAAAAAANwjwwEAAAAA8G5%2FsbtLy6o7xIgRYzpn8o4HhJQ%3DYkBemysNouBcEpyh71Ap7GhcCeli5jlgQICQ4oXTn2p7ROvSo6\"\n",
    "username = \"donaldtusk\"  # Target username\n",
    "\n",
    "def get_user_id(username):\n",
    "    url = f\"https://api.twitter.com/2/users/by/username/{username}\"\n",
    "    headers = {\"Authorization\": f\"Bearer {bearer_token}\"}\n",
    "    response = requests.get(url, headers=headers)\n",
    "    if response.status_code != 200:\n",
    "        raise Exception(f\"Error fetching user ID: {response.status_code}, {response.text}\")\n",
    "    return response.json()[\"data\"][\"id\"]\n",
    "\n",
    "def get_recent_tweet(user_id):\n",
    "    # Adjust fields to retrieve more information\n",
    "    tweet_fields = \"created_at,public_metrics,lang,source,text\"\n",
    "    url = f\"https://api.twitter.com/2/users/{user_id}/tweets?max_results=5&tweet.fields={tweet_fields}\"\n",
    "    headers = {\"Authorization\": f\"Bearer {bearer_token}\"}\n",
    "    response = requests.get(url, headers=headers)\n",
    "    if response.status_code != 200:\n",
    "        raise Exception(f\"Error fetching tweets: {response.status_code}, {response.text}\")\n",
    "    return response.json()[\"data\"][0]  # Return the most recent tweet\n",
    "\n",
    "# Fetch the user ID and then get the latest tweet\n",
    "user_id = get_user_id(username)\n"
   ]
  },
  {
   "cell_type": "code",
   "execution_count": 30,
   "metadata": {},
   "outputs": [
    {
     "data": {
      "text/plain": [
       "'375146901'"
      ]
     },
     "execution_count": 30,
     "metadata": {},
     "output_type": "execute_result"
    }
   ],
   "source": [
    "user_id"
   ]
  },
  {
   "cell_type": "code",
   "execution_count": null,
   "metadata": {},
   "outputs": [],
   "source": [
    "tweet = get_recent_tweet(user_id)\n",
    "\n",
    "# Print the tweet information\n",
    "print(json.dumps(tweet, indent=1))\n"
   ]
  },
  {
   "cell_type": "code",
   "execution_count": null,
   "metadata": {},
   "outputs": [],
   "source": [
    "## TESTING 1.3."
   ]
  },
  {
   "cell_type": "code",
   "execution_count": 31,
   "metadata": {},
   "outputs": [],
   "source": [
    "import requests\n",
    "import json\n",
    "from datetime import datetime\n",
    "\n",
    "# Set your bearer token\n",
    "bearer_token = \"AAAAAAAAAAAAAAAAAAAAANwjwwEAAAAA8G5%2FsbtLy6o7xIgRYzpn8o4HhJQ%3DYkBemysNouBcEpyh71Ap7GhcCeli5jlgQICQ4oXTn2p7ROvSo6\"\n",
    "username = \"donaldtusk\"  # Target username\n",
    "\n",
    "def get_user_id(username):\n",
    "    url = f\"https://api.twitter.com/2/users/by/username/{username}\"\n",
    "    headers = {\"Authorization\": f\"Bearer {bearer_token}\"}\n",
    "    response = requests.get(url, headers=headers)\n",
    "    if response.status_code != 200:\n",
    "        raise Exception(f\"Error fetching user ID: {response.status_code}, {response.text}\")\n",
    "    return response.json()[\"data\"][\"id\"]\n",
    "\n",
    "def get_tweets_in_date_range(user_id, start_time, end_time, max_results=100):\n",
    "    tweet_fields = \"created_at,public_metrics,lang,source,text\"\n",
    "    url = f\"https://api.twitter.com/2/users/{user_id}/tweets\"\n",
    "    headers = {\"Authorization\": f\"Bearer {bearer_token}\"}\n",
    "    \n",
    "    all_tweets = []\n",
    "    next_token = None\n",
    "    \n",
    "    while True:\n",
    "        # Add pagination token if it's available\n",
    "        params = {\n",
    "            \"start_time\": start_time,\n",
    "            \"end_time\": end_time,\n",
    "            \"max_results\": max_results,\n",
    "            \"tweet.fields\": tweet_fields,\n",
    "        }\n",
    "        if next_token:\n",
    "            params[\"pagination_token\"] = next_token\n",
    "            \n",
    "        # Make the API request\n",
    "        response = requests.get(url, headers=headers, params=params)\n",
    "        if response.status_code != 200:\n",
    "            raise Exception(f\"Error fetching tweets: {response.status_code}, {response.text}\")\n",
    "        \n",
    "        data = response.json()\n",
    "        \n",
    "        # Add the retrieved tweets to the full list\n",
    "        all_tweets.extend(data.get(\"data\", []))\n",
    "        \n",
    "        # Check if there's a next page\n",
    "        next_token = data.get(\"meta\", {}).get(\"next_token\")\n",
    "        if not next_token:  # Exit if no more pages\n",
    "            break\n",
    "    \n",
    "    return all_tweets\n"
   ]
  },
  {
   "cell_type": "code",
   "execution_count": null,
   "metadata": {},
   "outputs": [
    {
     "name": "stderr",
     "output_type": "stream",
     "text": [
      "C:\\Users\\macie\\AppData\\Local\\Temp\\ipykernel_23360\\3920075511.py:3: DeprecationWarning: datetime.datetime.utcnow() is deprecated and scheduled for removal in a future version. Use timezone-aware objects to represent datetimes in UTC: datetime.datetime.now(datetime.UTC).\n",
      "  end_time = datetime.utcnow().isoformat(\"T\") + \"Z\"  # Current UTC time\n"
     ]
    }
   ],
   "source": [
    "\n",
    "# Set up time range in ISO 8601 format\n",
    "start_time = \"2024-10-30T00:00:00Z\"  # Beginning of 2024\n",
    "end_time = datetime.utcnow().isoformat(\"T\") + \"Z\"  # Current UTC time"
   ]
  },
  {
   "cell_type": "code",
   "execution_count": null,
   "metadata": {},
   "outputs": [],
   "source": [
    "\n",
    "# Fetch the user ID and then get the tweets in the specified date range\n",
    "user_id = get_user_id(username)\n"
   ]
  },
  {
   "cell_type": "code",
   "execution_count": 33,
   "metadata": {},
   "outputs": [
    {
     "data": {
      "text/plain": [
       "'375146901'"
      ]
     },
     "execution_count": 33,
     "metadata": {},
     "output_type": "execute_result"
    }
   ],
   "source": [
    "user_id"
   ]
  },
  {
   "cell_type": "code",
   "execution_count": null,
   "metadata": {},
   "outputs": [],
   "source": [
    "tweets = get_tweets_in_date_range(user_id, start_time, end_time)\n",
    "\n",
    "# Print the text of each tweet and other data\n",
    "for tweet in tweets:\n",
    "    print(\"Tweet Text:\", tweet[\"text\"])\n",
    "    print(\"Created At:\", tweet[\"created_at\"])\n",
    "    print(\"Public Metrics:\", tweet[\"public_metrics\"])\n",
    "    print(\"Source:\", tweet[\"source\"])\n",
    "    print(\"Language:\", tweet[\"lang\"])\n",
    "    print(\"------\")"
   ]
  },
  {
   "cell_type": "code",
   "execution_count": 34,
   "metadata": {},
   "outputs": [],
   "source": [
    "# TESTING 1.3.2"
   ]
  },
  {
   "cell_type": "code",
   "execution_count": 41,
   "metadata": {},
   "outputs": [],
   "source": [
    "import requests\n",
    "import json\n",
    "from datetime import datetime, timezone\n",
    "\n",
    "# Set your bearer token\n",
    "# bearer_token = \"YOUR_BEARER_TOKEN\"\n",
    "# username = \"donaldtusk\"  # Target username\n",
    "\n",
    "def get_user_id(username):\n",
    "    url = f\"https://api.twitter.com/2/users/by/username/{username}\"\n",
    "    headers = {\"Authorization\": f\"Bearer {bearer_token}\"}\n",
    "    response = requests.get(url, headers=headers)\n",
    "    if response.status_code != 200:\n",
    "        raise Exception(f\"Error fetching user ID: {response.status_code}, {response.text}\")\n",
    "    return response.json()[\"data\"][\"id\"]\n",
    "\n",
    "def get_limited_tweets_in_date_range(user_id, start_time, end_time, tweet_limit=5, max_results_per_page=100):\n",
    "    tweet_fields = \"created_at,public_metrics,lang,source,text\"\n",
    "    url = f\"https://api.twitter.com/2/users/{user_id}/tweets\"\n",
    "    headers = {\"Authorization\": f\"Bearer {bearer_token}\"}\n",
    "    \n",
    "    all_tweets = []\n",
    "    next_token = None\n",
    "    \n",
    "    while len(all_tweets) < tweet_limit:\n",
    "        # Define request parameters\n",
    "        params = {\n",
    "            \"start_time\": start_time,\n",
    "            \"end_time\": end_time,\n",
    "            \"max_results\": min(max_results_per_page, tweet_limit - len(all_tweets)),  # Limit per request\n",
    "            \"tweet.fields\": tweet_fields,\n",
    "        }\n",
    "        if next_token:\n",
    "            params[\"pagination_token\"] = next_token\n",
    "            \n",
    "        # Make the API request\n",
    "        response = requests.get(url, headers=headers, params=params)\n",
    "        if response.status_code != 200:\n",
    "            raise Exception(f\"Error fetching tweets: {response.status_code}, {response.text}\")\n",
    "        \n",
    "        data = response.json()\n",
    "        \n",
    "        # Add tweets to the collection\n",
    "        all_tweets.extend(data.get(\"data\", []))\n",
    "        \n",
    "        # Check if there’s a next page and if tweet_limit is reached\n",
    "        next_token = data.get(\"meta\", {}).get(\"next_token\")\n",
    "        if not next_token or len(all_tweets) >= tweet_limit:\n",
    "            break\n",
    "    \n",
    "    return all_tweets[:tweet_limit]  # Return only up to tweet_limit\n",
    "\n",
    "# Set up time range in ISO 8601 format\n",
    "start_time = \"2024-11-061T00:00:00Z\"  # Beginning of 2024\n",
    "end_time = datetime.now(timezone.utc).isoformat(\"T\") + \"Z\"  # Current UTC time\n"
   ]
  },
  {
   "cell_type": "code",
   "execution_count": 38,
   "metadata": {},
   "outputs": [
    {
     "data": {
      "text/plain": [
       "'375146901'"
      ]
     },
     "execution_count": 38,
     "metadata": {},
     "output_type": "execute_result"
    }
   ],
   "source": [
    "user_id"
   ]
  },
  {
   "cell_type": "code",
   "execution_count": 42,
   "metadata": {},
   "outputs": [
    {
     "data": {
      "text/plain": [
       "'2024-11-061T00:00:00Z'"
      ]
     },
     "execution_count": 42,
     "metadata": {},
     "output_type": "execute_result"
    }
   ],
   "source": [
    "start_time"
   ]
  },
  {
   "cell_type": "code",
   "execution_count": 44,
   "metadata": {},
   "outputs": [
    {
     "ename": "Exception",
     "evalue": "Error fetching tweets: 429, {\"title\":\"Too Many Requests\",\"detail\":\"Too Many Requests\",\"type\":\"about:blank\",\"status\":429}",
     "output_type": "error",
     "traceback": [
      "\u001b[1;31m---------------------------------------------------------------------------\u001b[0m",
      "\u001b[1;31mException\u001b[0m                                 Traceback (most recent call last)",
      "Cell \u001b[1;32mIn[44], line 3\u001b[0m\n\u001b[0;32m      1\u001b[0m \u001b[38;5;66;03m# Fetch the user ID and then get limited tweets in the specified date range\u001b[39;00m\n\u001b[0;32m      2\u001b[0m \u001b[38;5;66;03m# user_id = get_user_id(username)\u001b[39;00m\n\u001b[1;32m----> 3\u001b[0m tweets \u001b[38;5;241m=\u001b[39m get_limited_tweets_in_date_range(user_id, start_time, end_time, tweet_limit\u001b[38;5;241m=\u001b[39m\u001b[38;5;241m5\u001b[39m)\n\u001b[0;32m      5\u001b[0m \u001b[38;5;66;03m# Print tweet information\u001b[39;00m\n\u001b[0;32m      6\u001b[0m \u001b[38;5;28;01mfor\u001b[39;00m tweet \u001b[38;5;129;01min\u001b[39;00m tweets:\n",
      "Cell \u001b[1;32mIn[41], line 39\u001b[0m, in \u001b[0;36mget_limited_tweets_in_date_range\u001b[1;34m(user_id, start_time, end_time, tweet_limit, max_results_per_page)\u001b[0m\n\u001b[0;32m     37\u001b[0m response \u001b[38;5;241m=\u001b[39m requests\u001b[38;5;241m.\u001b[39mget(url, headers\u001b[38;5;241m=\u001b[39mheaders, params\u001b[38;5;241m=\u001b[39mparams)\n\u001b[0;32m     38\u001b[0m \u001b[38;5;28;01mif\u001b[39;00m response\u001b[38;5;241m.\u001b[39mstatus_code \u001b[38;5;241m!=\u001b[39m \u001b[38;5;241m200\u001b[39m:\n\u001b[1;32m---> 39\u001b[0m     \u001b[38;5;28;01mraise\u001b[39;00m \u001b[38;5;167;01mException\u001b[39;00m(\u001b[38;5;124mf\u001b[39m\u001b[38;5;124m\"\u001b[39m\u001b[38;5;124mError fetching tweets: \u001b[39m\u001b[38;5;132;01m{\u001b[39;00mresponse\u001b[38;5;241m.\u001b[39mstatus_code\u001b[38;5;132;01m}\u001b[39;00m\u001b[38;5;124m, \u001b[39m\u001b[38;5;132;01m{\u001b[39;00mresponse\u001b[38;5;241m.\u001b[39mtext\u001b[38;5;132;01m}\u001b[39;00m\u001b[38;5;124m\"\u001b[39m)\n\u001b[0;32m     41\u001b[0m data \u001b[38;5;241m=\u001b[39m response\u001b[38;5;241m.\u001b[39mjson()\n\u001b[0;32m     43\u001b[0m \u001b[38;5;66;03m# Add tweets to the collection\u001b[39;00m\n",
      "\u001b[1;31mException\u001b[0m: Error fetching tweets: 429, {\"title\":\"Too Many Requests\",\"detail\":\"Too Many Requests\",\"type\":\"about:blank\",\"status\":429}"
     ]
    }
   ],
   "source": [
    "# Fetch the user ID and then get limited tweets in the specified date range\n",
    "# user_id = get_user_id(username)\n",
    "tweets = get_limited_tweets_in_date_range(user_id, start_time, end_time, tweet_limit=5)\n",
    "\n",
    "# Print tweet information\n",
    "for tweet in tweets:\n",
    "    print(\"Tweet Text:\", tweet[\"text\"])\n",
    "    print(\"Created At:\", tweet[\"created_at\"])\n",
    "    print(\"Public Metrics:\", tweet[\"public_metrics\"])\n",
    "    print(\"Source:\", tweet[\"source\"])\n",
    "    print(\"Language:\", tweet[\"lang\"])\n",
    "    print(\"------\")\n"
   ]
  },
  {
   "cell_type": "code",
   "execution_count": null,
   "metadata": {},
   "outputs": [],
   "source": [
    "# testing 1.4"
   ]
  },
  {
   "cell_type": "code",
   "execution_count": 45,
   "metadata": {},
   "outputs": [
    {
     "ename": "Exception",
     "evalue": "Error fetching tweets: 429, {\"title\":\"Too Many Requests\",\"detail\":\"Too Many Requests\",\"type\":\"about:blank\",\"status\":429}",
     "output_type": "error",
     "traceback": [
      "\u001b[1;31m---------------------------------------------------------------------------\u001b[0m",
      "\u001b[1;31mException\u001b[0m                                 Traceback (most recent call last)",
      "Cell \u001b[1;32mIn[45], line 41\u001b[0m\n\u001b[0;32m     38\u001b[0m end_time \u001b[38;5;241m=\u001b[39m datetime\u001b[38;5;241m.\u001b[39mnow(timezone\u001b[38;5;241m.\u001b[39mutc)\u001b[38;5;241m.\u001b[39misoformat(\u001b[38;5;124m\"\u001b[39m\u001b[38;5;124mT\u001b[39m\u001b[38;5;124m\"\u001b[39m)\n\u001b[0;32m     39\u001b[0m start_time \u001b[38;5;241m=\u001b[39m (datetime\u001b[38;5;241m.\u001b[39mnow(timezone\u001b[38;5;241m.\u001b[39mutc) \u001b[38;5;241m-\u001b[39m timedelta(days\u001b[38;5;241m=\u001b[39m\u001b[38;5;241m1\u001b[39m))\u001b[38;5;241m.\u001b[39misoformat(\u001b[38;5;124m\"\u001b[39m\u001b[38;5;124mT\u001b[39m\u001b[38;5;124m\"\u001b[39m)  \u001b[38;5;66;03m# 1-day range\u001b[39;00m\n\u001b[1;32m---> 41\u001b[0m tweet \u001b[38;5;241m=\u001b[39m get_recent_tweet(user_id, start_time, end_time)\n\u001b[0;32m     43\u001b[0m \u001b[38;5;28mprint\u001b[39m(\u001b[38;5;124m\"\u001b[39m\u001b[38;5;124mLatest tweet:\u001b[39m\u001b[38;5;124m\"\u001b[39m, tweet[\u001b[38;5;124m\"\u001b[39m\u001b[38;5;124mtext\u001b[39m\u001b[38;5;124m\"\u001b[39m])\n",
      "Cell \u001b[1;32mIn[45], line 29\u001b[0m, in \u001b[0;36mget_recent_tweet\u001b[1;34m(user_id, start_time, end_time)\u001b[0m\n\u001b[0;32m     27\u001b[0m response \u001b[38;5;241m=\u001b[39m requests\u001b[38;5;241m.\u001b[39mget(url, headers\u001b[38;5;241m=\u001b[39mheaders)\n\u001b[0;32m     28\u001b[0m \u001b[38;5;28;01mif\u001b[39;00m response\u001b[38;5;241m.\u001b[39mstatus_code \u001b[38;5;241m!=\u001b[39m \u001b[38;5;241m200\u001b[39m:\n\u001b[1;32m---> 29\u001b[0m     \u001b[38;5;28;01mraise\u001b[39;00m \u001b[38;5;167;01mException\u001b[39;00m(\u001b[38;5;124mf\u001b[39m\u001b[38;5;124m\"\u001b[39m\u001b[38;5;124mError fetching tweets: \u001b[39m\u001b[38;5;132;01m{\u001b[39;00mresponse\u001b[38;5;241m.\u001b[39mstatus_code\u001b[38;5;132;01m}\u001b[39;00m\u001b[38;5;124m, \u001b[39m\u001b[38;5;132;01m{\u001b[39;00mresponse\u001b[38;5;241m.\u001b[39mtext\u001b[38;5;132;01m}\u001b[39;00m\u001b[38;5;124m\"\u001b[39m)\n\u001b[0;32m     31\u001b[0m \u001b[38;5;66;03m# Return only the first tweet\u001b[39;00m\n\u001b[0;32m     32\u001b[0m \u001b[38;5;28;01mreturn\u001b[39;00m response\u001b[38;5;241m.\u001b[39mjson()[\u001b[38;5;124m\"\u001b[39m\u001b[38;5;124mdata\u001b[39m\u001b[38;5;124m\"\u001b[39m][\u001b[38;5;241m0\u001b[39m]\n",
      "\u001b[1;31mException\u001b[0m: Error fetching tweets: 429, {\"title\":\"Too Many Requests\",\"detail\":\"Too Many Requests\",\"type\":\"about:blank\",\"status\":429}"
     ]
    }
   ],
   "source": [
    "import requests\n",
    "from datetime import datetime, timedelta, timezone\n",
    "\n",
    "# Set your bearer token\n",
    "# bearer_token = \"YOUR_BEARER_TOKEN\"\n",
    "# username = \"donaldtusk\"\n",
    "\n",
    "def get_user_id(username):\n",
    "    url = f\"https://api.twitter.com/2/users/by/username/{username}\"\n",
    "    headers = {\"Authorization\": f\"Bearer {bearer_token}\"}\n",
    "    response = requests.get(url, headers=headers)\n",
    "    if response.status_code != 200:\n",
    "        raise Exception(f\"Error fetching user ID: {response.status_code}, {response.text}\")\n",
    "    return response.json()[\"data\"][\"id\"]\n",
    "\n",
    "def get_recent_tweet(user_id, start_time=None, end_time=None):\n",
    "    max_results = 5  # API minimum to ensure just one request\n",
    "    \n",
    "    # Build the request URL\n",
    "    tweet_fields = \"created_at,text\"\n",
    "    url = f\"https://api.twitter.com/2/users/{user_id}/tweets?max_results={max_results}&tweet.fields={tweet_fields}\"\n",
    "    \n",
    "    if start_time and end_time:\n",
    "        url += f\"&start_time={start_time}&end_time={end_time}\"\n",
    "    \n",
    "    headers = {\"Authorization\": f\"Bearer {bearer_token}\"}\n",
    "    response = requests.get(url, headers=headers)\n",
    "    if response.status_code != 200:\n",
    "        raise Exception(f\"Error fetching tweets: {response.status_code}, {response.text}\")\n",
    "    \n",
    "    # Return only the first tweet\n",
    "    return response.json()[\"data\"][0]\n",
    "\n",
    "# Example usage\n",
    "# user_id = get_user_id(username)\n",
    "\n",
    "# Specify a time frame for Approach 2 (optional)\n",
    "end_time = datetime.now(timezone.utc).isoformat(\"T\")\n",
    "start_time = (datetime.now(timezone.utc) - timedelta(days=1)).isoformat(\"T\")  # 1-day range\n",
    "\n",
    "tweet = get_recent_tweet(user_id, start_time, end_time)\n",
    "\n",
    "print(\"Latest tweet:\", tweet[\"text\"])\n"
   ]
  },
  {
   "cell_type": "code",
   "execution_count": 46,
   "metadata": {},
   "outputs": [],
   "source": [
    "import time\n",
    "\n",
    "def get_recent_tweet_with_retry(user_id, max_attempts=5):\n",
    "    attempts = 0\n",
    "    while attempts < max_attempts:\n",
    "        try:\n",
    "            tweet = get_recent_tweet(user_id)\n",
    "            return tweet\n",
    "        except Exception as e:\n",
    "            if \"429\" in str(e):\n",
    "                print(\"Rate limit hit, waiting before retrying...\")\n",
    "                time.sleep(15 * 60)  # Wait 15 minutes to reset rate limit\n",
    "                attempts += 1\n",
    "            else:\n",
    "                raise e\n",
    "    raise Exception(\"Max attempts reached, unable to fetch tweet.\")"
   ]
  },
  {
   "cell_type": "code",
   "execution_count": null,
   "metadata": {},
   "outputs": [
    {
     "name": "stdout",
     "output_type": "stream",
     "text": [
      "Rate limit hit, waiting before retrying...\n"
     ]
    }
   ],
   "source": [
    "get_recent_tweet_with_retry(user_id)"
   ]
  },
  {
   "cell_type": "code",
   "execution_count": null,
   "metadata": {},
   "outputs": [],
   "source": [
    "# testing 1.5. "
   ]
  },
  {
   "cell_type": "code",
   "execution_count": null,
   "metadata": {},
   "outputs": [],
   "source": [
    "bearer_token = \"AAAAAAAAAAAAAAAAAAAAANwjwwEAAAAA8G5%2FsbtLy6o7xIgRYzpn8o4HhJQ%3DYkBemysNouBcEpyh71Ap7GhcCeli5jlgQICQ4oXTn2p7ROvSo6\""
   ]
  },
  {
   "cell_type": "code",
   "execution_count": 2,
   "metadata": {},
   "outputs": [
    {
     "ename": "NameError",
     "evalue": "name 'bearer_token' is not defined",
     "output_type": "error",
     "traceback": [
      "\u001b[1;31m---------------------------------------------------------------------------\u001b[0m",
      "\u001b[1;31mNameError\u001b[0m                                 Traceback (most recent call last)",
      "Cell \u001b[1;32mIn[2], line 45\u001b[0m\n\u001b[0;32m     43\u001b[0m \u001b[38;5;66;03m# Example usage:\u001b[39;00m\n\u001b[0;32m     44\u001b[0m user_id \u001b[38;5;241m=\u001b[39m \u001b[38;5;124m\"\u001b[39m\u001b[38;5;124m375146901\u001b[39m\u001b[38;5;124m\"\u001b[39m  \u001b[38;5;66;03m# Replace with actual user ID donald\u001b[39;00m\n\u001b[1;32m---> 45\u001b[0m tweets \u001b[38;5;241m=\u001b[39m get_recent_tweet_with_retry(user_id, max_attempts\u001b[38;5;241m=\u001b[39m\u001b[38;5;241m1\u001b[39m, max_results\u001b[38;5;241m=\u001b[39m\u001b[38;5;241m5\u001b[39m, num_tweets\u001b[38;5;241m=\u001b[39m\u001b[38;5;241m1\u001b[39m)\n\u001b[0;32m     46\u001b[0m \u001b[38;5;28;01mfor\u001b[39;00m tweet \u001b[38;5;129;01min\u001b[39;00m tweets:\n\u001b[0;32m     47\u001b[0m     \u001b[38;5;28mprint\u001b[39m(tweet[\u001b[38;5;124m\"\u001b[39m\u001b[38;5;124mtext\u001b[39m\u001b[38;5;124m\"\u001b[39m])\n",
      "Cell \u001b[1;32mIn[2], line 7\u001b[0m, in \u001b[0;36mget_recent_tweet_with_retry\u001b[1;34m(user_id, max_attempts, max_results, num_tweets)\u001b[0m\n\u001b[0;32m      5\u001b[0m \u001b[38;5;28;01mdef\u001b[39;00m \u001b[38;5;21mget_recent_tweet_with_retry\u001b[39m(user_id, max_attempts\u001b[38;5;241m=\u001b[39m\u001b[38;5;241m5\u001b[39m, max_results\u001b[38;5;241m=\u001b[39m\u001b[38;5;241m5\u001b[39m, num_tweets\u001b[38;5;241m=\u001b[39m\u001b[38;5;241m1\u001b[39m):\n\u001b[0;32m      6\u001b[0m     url \u001b[38;5;241m=\u001b[39m \u001b[38;5;124mf\u001b[39m\u001b[38;5;124m\"\u001b[39m\u001b[38;5;124mhttps://api.twitter.com/2/users/\u001b[39m\u001b[38;5;132;01m{\u001b[39;00muser_id\u001b[38;5;132;01m}\u001b[39;00m\u001b[38;5;124m/tweets\u001b[39m\u001b[38;5;124m\"\u001b[39m\n\u001b[1;32m----> 7\u001b[0m     headers \u001b[38;5;241m=\u001b[39m {\u001b[38;5;124m\"\u001b[39m\u001b[38;5;124mAuthorization\u001b[39m\u001b[38;5;124m\"\u001b[39m: \u001b[38;5;124mf\u001b[39m\u001b[38;5;124m\"\u001b[39m\u001b[38;5;124mBearer \u001b[39m\u001b[38;5;132;01m{\u001b[39;00mbearer_token\u001b[38;5;132;01m}\u001b[39;00m\u001b[38;5;124m\"\u001b[39m}\n\u001b[0;32m      8\u001b[0m     attempts \u001b[38;5;241m=\u001b[39m \u001b[38;5;241m0\u001b[39m\n\u001b[0;32m      9\u001b[0m     tweets \u001b[38;5;241m=\u001b[39m []\n",
      "\u001b[1;31mNameError\u001b[0m: name 'bearer_token' is not defined"
     ]
    }
   ],
   "source": [
    "import time\n",
    "import datetime\n",
    "import requests\n",
    "\n",
    "def get_recent_tweet_with_retry(user_id, max_attempts=5, max_results=5, num_tweets=1):\n",
    "    url = f\"https://api.twitter.com/2/users/{user_id}/tweets\"\n",
    "    headers = {\"Authorization\": f\"Bearer {bearer_token}\"}\n",
    "    attempts = 0\n",
    "    tweets = []\n",
    "    pagination_token = None\n",
    "    \n",
    "    while attempts < max_attempts and len(tweets) < num_tweets:\n",
    "        params = {\n",
    "            \"tweet.fields\": \"created_at\",\n",
    "            \"max_results\": max_results,\n",
    "            \"start_time\": \"2024-01-01T00:00:00Z\",\n",
    "            \"end_time\": datetime.datetime.utcnow().isoformat(\"T\") + \"Z\"\n",
    "        }\n",
    "        if pagination_token:\n",
    "            params[\"pagination_token\"] = pagination_token\n",
    "        \n",
    "        try:\n",
    "            response = requests.get(url, headers=headers, params=params)\n",
    "            response.raise_for_status()\n",
    "            data = response.json()\n",
    "            \n",
    "            tweets.extend(data[\"data\"][:num_tweets - len(tweets)])  # Limit to desired num_tweets\n",
    "            pagination_token = data.get(\"meta\", {}).get(\"next_token\", None)\n",
    "            if not pagination_token or len(tweets) >= num_tweets:\n",
    "                break  # No more pages or fetched enough tweets\n",
    "        except requests.exceptions.HTTPError as e:\n",
    "            if response.status_code == 429:  # Rate limit error\n",
    "                print(\"Rate limit hit, waiting before retrying...\")\n",
    "                time.sleep(15 * 60)  # Wait 15 minutes for rate limit to reset\n",
    "                attempts += 1\n",
    "            else:\n",
    "                raise Exception(f\"Error fetching tweets: {response.status_code}, {response.text}\")\n",
    "    \n",
    "    if not tweets:\n",
    "        raise Exception(\"Max attempts reached, unable to fetch tweet.\")\n",
    "    return tweets[:num_tweets]\n",
    "\n",
    "# Example usage:\n",
    "user_id = \"375146901\"  # Replace with actual user ID donald\n",
    "tweets = get_recent_tweet_with_retry(user_id, max_attempts=1, max_results=5, num_tweets=1)\n",
    "for tweet in tweets:\n",
    "    print(tweet[\"text\"])\n"
   ]
  },
  {
   "cell_type": "code",
   "execution_count": null,
   "metadata": {},
   "outputs": [],
   "source": [
    "################ TESTING 2 ###################"
   ]
  },
  {
   "cell_type": "code",
   "execution_count": 23,
   "metadata": {},
   "outputs": [],
   "source": [
    "user_ids = \"375146901\""
   ]
  },
  {
   "cell_type": "code",
   "execution_count": 24,
   "metadata": {},
   "outputs": [
    {
     "ename": "KeyError",
     "evalue": "'data'",
     "output_type": "error",
     "traceback": [
      "\u001b[1;31m---------------------------------------------------------------------------\u001b[0m",
      "\u001b[1;31mKeyError\u001b[0m                                  Traceback (most recent call last)",
      "Cell \u001b[1;32mIn[24], line 10\u001b[0m\n\u001b[0;32m      8\u001b[0m tweets_data \u001b[38;5;241m=\u001b[39m {}\n\u001b[0;32m      9\u001b[0m \u001b[38;5;28;01mfor\u001b[39;00m user_id \u001b[38;5;129;01min\u001b[39;00m user_ids:\n\u001b[1;32m---> 10\u001b[0m     tweets \u001b[38;5;241m=\u001b[39m get_tweets_by_user_id(user_id)\n\u001b[0;32m     11\u001b[0m     tweets_data[user_id] \u001b[38;5;241m=\u001b[39m tweets\n",
      "Cell \u001b[1;32mIn[24], line 5\u001b[0m, in \u001b[0;36mget_tweets_by_user_id\u001b[1;34m(user_id, max_results)\u001b[0m\n\u001b[0;32m      3\u001b[0m tweet_url \u001b[38;5;241m=\u001b[39m \u001b[38;5;124mf\u001b[39m\u001b[38;5;124m\"\u001b[39m\u001b[38;5;124mhttps://api.twitter.com/2/users/\u001b[39m\u001b[38;5;132;01m{\u001b[39;00muser_id\u001b[38;5;132;01m}\u001b[39;00m\u001b[38;5;124m/tweets?max_results=\u001b[39m\u001b[38;5;132;01m{\u001b[39;00mmax_results\u001b[38;5;132;01m}\u001b[39;00m\u001b[38;5;124m&tweet.fields=created_at,text,public_metrics\u001b[39m\u001b[38;5;124m\"\u001b[39m\n\u001b[0;32m      4\u001b[0m response \u001b[38;5;241m=\u001b[39m requests\u001b[38;5;241m.\u001b[39mget(tweet_url, headers\u001b[38;5;241m=\u001b[39mheaders)\n\u001b[1;32m----> 5\u001b[0m \u001b[38;5;28;01mreturn\u001b[39;00m response\u001b[38;5;241m.\u001b[39mjson()[\u001b[38;5;124m\"\u001b[39m\u001b[38;5;124mdata\u001b[39m\u001b[38;5;124m\"\u001b[39m]\n",
      "\u001b[1;31mKeyError\u001b[0m: 'data'"
     ]
    }
   ],
   "source": [
    "# Define the function to fetch tweets by user ID\n",
    "def get_tweets_by_user_id(user_id, max_results=1):\n",
    "    tweet_url = f\"https://api.twitter.com/2/users/{user_id}/tweets?max_results={max_results}&tweet.fields=created_at,text,public_metrics\"\n",
    "    response = requests.get(tweet_url, headers=headers)\n",
    "    return response.json()[\"data\"]\n",
    "\n",
    "# Iterate through user IDs and collect tweets\n",
    "tweets_data = {}\n",
    "for user_id in user_ids:\n",
    "    tweets = get_tweets_by_user_id(user_id)\n",
    "    tweets_data[user_id] = tweets\n"
   ]
  }
 ],
 "metadata": {
  "kernelspec": {
   "display_name": "base",
   "language": "python",
   "name": "python3"
  },
  "language_info": {
   "codemirror_mode": {
    "name": "ipython",
    "version": 3
   },
   "file_extension": ".py",
   "mimetype": "text/x-python",
   "name": "python",
   "nbconvert_exporter": "python",
   "pygments_lexer": "ipython3",
   "version": "3.12.4"
  }
 },
 "nbformat": 4,
 "nbformat_minor": 2
}

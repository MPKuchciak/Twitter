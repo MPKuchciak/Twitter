{
 "cells": [
  {
   "cell_type": "code",
   "execution_count": 1,
   "metadata": {},
   "outputs": [
    {
     "name": "stdout",
     "output_type": "stream",
     "text": [
      "Fetching up to 100 original tweets from user: donaldtusk from 2023-10-16T00:00:00Z to 2024-10-16T00:00:00Z\n"
     ]
    },
    {
     "name": "stderr",
     "output_type": "stream",
     "text": [
      "Rate limit exceeded. Sleeping for 162 seconds.\n",
      "Rate limit exceeded. Sleeping for 167 seconds.\n"
     ]
    },
    {
     "name": "stdout",
     "output_type": "stream",
     "text": [
      "Saved 100 tweets to original_tweets.json\n"
     ]
    }
   ],
   "source": [
    "import tweepy\n",
    "import json\n",
    "from datetime import datetime\n",
    "\n",
    "# Function to authenticate to the X API v2\n",
    "def authenticate(bearer_token):\n",
    "    return tweepy.Client(bearer_token, wait_on_rate_limit=True)\n",
    "\n",
    "# Function to fetch original tweets from a specific account within a date range\n",
    "def fetch_original_tweets(client, username, max_tweets, start_date, end_date):\n",
    "    tweets = []\n",
    "    user = client.get_user(username=username)\n",
    "    user_id = user.data.id\n",
    "\n",
    "    for tweet in tweepy.Paginator(\n",
    "        client.get_users_tweets,\n",
    "        user_id,\n",
    "        tweet_fields=[\"created_at\"],\n",
    "        exclude=[\"retweets\", \"replies\"],\n",
    "        start_time=start_date,\n",
    "        end_time=end_date,\n",
    "        max_results=100\n",
    "    ).flatten(limit=max_tweets):\n",
    "        tweets.append({\n",
    "            \"created_at\": tweet.created_at,\n",
    "            \"id\": tweet.id,\n",
    "            \"text\": tweet.text\n",
    "        })\n",
    "    # Reverse to get tweets starting from the oldest\n",
    "    tweets.reverse()\n",
    "    return tweets\n",
    "\n",
    "# Function to save tweets to a JSON file\n",
    "def save_tweets_to_json(tweets, filename):\n",
    "    with open(filename, \"w\", encoding=\"utf-8\") as jsonfile:\n",
    "        json.dump(tweets, jsonfile, ensure_ascii=False, indent=4, default=str)\n",
    "\n",
    "if __name__ == \"__main__\":\n",
    "    # Replace with your X API v2 Bearer Token\n",
    "    bearer_token = \"AAAAAAAAAAAAAAAAAAAAANwjwwEAAAAA8G5%2FsbtLy6o7xIgRYzpn8o4HhJQ%3DYkBemysNouBcEpyh71Ap7GhcCeli5jlgQICQ4oXTn2p7ROvSo6\"\n",
    "\n",
    "    # Authenticate to the API\n",
    "    client = authenticate(bearer_token)\n",
    "\n",
    "    # Parameters for fetching tweets\n",
    "    username = \"donaldtusk\"  # Replace with the account's username\n",
    "    max_tweets = 100 # Increase limit to fetch all tweets within the range\n",
    "    start_date = \"2023-10-16T00:00:00Z\"  # Start date in ISO 8601 format\n",
    "    end_date = \"2024-10-16T00:00:00Z\"  # End date in ISO 8601 format\n",
    "\n",
    "    # Fetch tweets\n",
    "    print(f\"Fetching up to {max_tweets} original tweets from user: {username} from {start_date} to {end_date}\")\n",
    "    tweets = fetch_original_tweets(client, username, max_tweets, start_date, end_date)\n",
    "\n",
    "    # Save tweets to a JSON file\n",
    "    output_file = \"original_tweets.json\"\n",
    "    save_tweets_to_json(tweets, output_file)\n",
    "    print(f\"Saved {len(tweets)} tweets to {output_file}\")\n"
   ]
  },
  {
   "cell_type": "code",
   "execution_count": null,
   "metadata": {},
   "outputs": [],
   "source": []
  }
 ],
 "metadata": {
  "kernelspec": {
   "display_name": "base",
   "language": "python",
   "name": "python3"
  },
  "language_info": {
   "codemirror_mode": {
    "name": "ipython",
    "version": 3
   },
   "file_extension": ".py",
   "mimetype": "text/x-python",
   "name": "python",
   "nbconvert_exporter": "python",
   "pygments_lexer": "ipython3",
   "version": "3.12.4"
  }
 },
 "nbformat": 4,
 "nbformat_minor": 2
}
